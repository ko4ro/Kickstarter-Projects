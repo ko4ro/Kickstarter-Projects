{
 "cells": [
  {
   "cell_type": "markdown",
   "metadata": {},
   "source": [
    "# Kickstarter projects"
   ]
  },
  {
   "cell_type": "code",
   "execution_count": 1,
   "metadata": {},
   "outputs": [],
   "source": [
    "%matplotlib inline\n",
    "import numpy as np\n",
    "import matplotlib.pyplot as plt\n",
    "import pandas as pd\n",
    "import seaborn as sns\n",
    "from sklearn.svm import SVC\n",
    "from sklearn.preprocessing import LabelEncoder\n",
    "from sklearn.linear_model import SGDClassifier\n",
    "from sklearn.metrics import log_loss, accuracy_score, confusion_matrix\n",
    "from sklearn.model_selection import train_test_split, GridSearchCV\n",
    "from sklearn.preprocessing import StandardScaler\n",
    "from common_func import plot_decision_regions"
   ]
  },
  {
   "cell_type": "markdown",
   "metadata": {},
   "source": [
    "説明変数が少なくデータ量がそこそこあれば、非線形カーネル関数を\n",
    "利用してみることで予測性能が改善することがある"
   ]
  },
  {
   "cell_type": "code",
   "execution_count": 2,
   "metadata": {},
   "outputs": [],
   "source": [
    " df_ks18_fixed= pd.read_csv(\"./df_ks18_fixed.csv\")"
   ]
  },
  {
   "cell_type": "code",
   "execution_count": 3,
   "metadata": {},
   "outputs": [
    {
     "data": {
      "text/html": [
       "<div>\n",
       "<style scoped>\n",
       "    .dataframe tbody tr th:only-of-type {\n",
       "        vertical-align: middle;\n",
       "    }\n",
       "\n",
       "    .dataframe tbody tr th {\n",
       "        vertical-align: top;\n",
       "    }\n",
       "\n",
       "    .dataframe thead th {\n",
       "        text-align: right;\n",
       "    }\n",
       "</style>\n",
       "<table border=\"1\" class=\"dataframe\">\n",
       "  <thead>\n",
       "    <tr style=\"text-align: right;\">\n",
       "      <th></th>\n",
       "      <th>Unnamed: 0</th>\n",
       "      <th>state</th>\n",
       "      <th>goal</th>\n",
       "      <th>backers</th>\n",
       "    </tr>\n",
       "  </thead>\n",
       "  <tbody>\n",
       "    <tr>\n",
       "      <th>0</th>\n",
       "      <td>5</td>\n",
       "      <td>1</td>\n",
       "      <td>50000.0</td>\n",
       "      <td>224</td>\n",
       "    </tr>\n",
       "    <tr>\n",
       "      <th>1</th>\n",
       "      <td>6</td>\n",
       "      <td>1</td>\n",
       "      <td>1000.0</td>\n",
       "      <td>16</td>\n",
       "    </tr>\n",
       "    <tr>\n",
       "      <th>2</th>\n",
       "      <td>11</td>\n",
       "      <td>1</td>\n",
       "      <td>12500.0</td>\n",
       "      <td>100</td>\n",
       "    </tr>\n",
       "    <tr>\n",
       "      <th>3</th>\n",
       "      <td>14</td>\n",
       "      <td>1</td>\n",
       "      <td>5000.0</td>\n",
       "      <td>761</td>\n",
       "    </tr>\n",
       "    <tr>\n",
       "      <th>4</th>\n",
       "      <td>18</td>\n",
       "      <td>1</td>\n",
       "      <td>250.0</td>\n",
       "      <td>7</td>\n",
       "    </tr>\n",
       "  </tbody>\n",
       "</table>\n",
       "</div>"
      ],
      "text/plain": [
       "   Unnamed: 0  state     goal  backers\n",
       "0           5      1  50000.0      224\n",
       "1           6      1   1000.0       16\n",
       "2          11      1  12500.0      100\n",
       "3          14      1   5000.0      761\n",
       "4          18      1    250.0        7"
      ]
     },
     "metadata": {},
     "output_type": "display_data"
    },
    {
     "name": "stdout",
     "output_type": "stream",
     "text": [
      "<class 'pandas.core.frame.DataFrame'>\n",
      "RangeIndex: 331462 entries, 0 to 331461\n",
      "Data columns (total 4 columns):\n",
      "Unnamed: 0    331462 non-null int64\n",
      "state         331462 non-null int64\n",
      "goal          331462 non-null float64\n",
      "backers       331462 non-null int64\n",
      "dtypes: float64(1), int64(3)\n",
      "memory usage: 10.1 MB\n"
     ]
    },
    {
     "data": {
      "text/html": [
       "<div>\n",
       "<style scoped>\n",
       "    .dataframe tbody tr th:only-of-type {\n",
       "        vertical-align: middle;\n",
       "    }\n",
       "\n",
       "    .dataframe tbody tr th {\n",
       "        vertical-align: top;\n",
       "    }\n",
       "\n",
       "    .dataframe thead th {\n",
       "        text-align: right;\n",
       "    }\n",
       "</style>\n",
       "<table border=\"1\" class=\"dataframe\">\n",
       "  <thead>\n",
       "    <tr style=\"text-align: right;\">\n",
       "      <th></th>\n",
       "      <th>Unnamed: 0</th>\n",
       "      <th>state</th>\n",
       "      <th>goal</th>\n",
       "      <th>backers</th>\n",
       "    </tr>\n",
       "  </thead>\n",
       "  <tbody>\n",
       "    <tr>\n",
       "      <th>count</th>\n",
       "      <td>331462.000000</td>\n",
       "      <td>331462.000000</td>\n",
       "      <td>3.314620e+05</td>\n",
       "      <td>331462.000000</td>\n",
       "    </tr>\n",
       "    <tr>\n",
       "      <th>mean</th>\n",
       "      <td>189274.447508</td>\n",
       "      <td>0.403820</td>\n",
       "      <td>4.426583e+04</td>\n",
       "      <td>116.456315</td>\n",
       "    </tr>\n",
       "    <tr>\n",
       "      <th>std</th>\n",
       "      <td>109321.981860</td>\n",
       "      <td>0.490663</td>\n",
       "      <td>1.118269e+06</td>\n",
       "      <td>965.732911</td>\n",
       "    </tr>\n",
       "    <tr>\n",
       "      <th>min</th>\n",
       "      <td>0.000000</td>\n",
       "      <td>0.000000</td>\n",
       "      <td>1.000000e-02</td>\n",
       "      <td>0.000000</td>\n",
       "    </tr>\n",
       "    <tr>\n",
       "      <th>25%</th>\n",
       "      <td>94533.500000</td>\n",
       "      <td>0.000000</td>\n",
       "      <td>2.000000e+03</td>\n",
       "      <td>2.000000</td>\n",
       "    </tr>\n",
       "    <tr>\n",
       "      <th>50%</th>\n",
       "      <td>189372.500000</td>\n",
       "      <td>0.000000</td>\n",
       "      <td>5.000000e+03</td>\n",
       "      <td>15.000000</td>\n",
       "    </tr>\n",
       "    <tr>\n",
       "      <th>75%</th>\n",
       "      <td>283887.750000</td>\n",
       "      <td>1.000000</td>\n",
       "      <td>1.500000e+04</td>\n",
       "      <td>63.000000</td>\n",
       "    </tr>\n",
       "    <tr>\n",
       "      <th>max</th>\n",
       "      <td>378660.000000</td>\n",
       "      <td>1.000000</td>\n",
       "      <td>1.000000e+08</td>\n",
       "      <td>219382.000000</td>\n",
       "    </tr>\n",
       "  </tbody>\n",
       "</table>\n",
       "</div>"
      ],
      "text/plain": [
       "          Unnamed: 0          state          goal        backers\n",
       "count  331462.000000  331462.000000  3.314620e+05  331462.000000\n",
       "mean   189274.447508       0.403820  4.426583e+04     116.456315\n",
       "std    109321.981860       0.490663  1.118269e+06     965.732911\n",
       "min         0.000000       0.000000  1.000000e-02       0.000000\n",
       "25%     94533.500000       0.000000  2.000000e+03       2.000000\n",
       "50%    189372.500000       0.000000  5.000000e+03      15.000000\n",
       "75%    283887.750000       1.000000  1.500000e+04      63.000000\n",
       "max    378660.000000       1.000000  1.000000e+08  219382.000000"
      ]
     },
     "execution_count": 3,
     "metadata": {},
     "output_type": "execute_result"
    }
   ],
   "source": [
    "display(df_ks18_fixed.head())\n",
    "df_ks18_fixed.info()\n",
    "df_ks18_fixed.describe()"
   ]
  },
  {
   "cell_type": "code",
   "execution_count": 4,
   "metadata": {},
   "outputs": [
    {
     "data": {
      "text/plain": [
       "<seaborn.axisgrid.PairGrid at 0x7fbd480fa390>"
      ]
     },
     "execution_count": 4,
     "metadata": {},
     "output_type": "execute_result"
    },
    {
     "data": {
      "image/png": "[encoded data removed]",
      "text/plain": [
       "<Figure size 540x540 with 12 Axes>"
      ]
     },
     "metadata": {
      "needs_background": "light"
     },
     "output_type": "display_data"
    }
   ],
   "source": [
    "sns.pairplot(df_ks18_fixed[df_ks18_fixed.columns[df_ks18_fixed.columns != 'Unnamed: 0']])"
   ]
  },
  {
   "cell_type": "code",
   "execution_count": 6,
   "metadata": {},
   "outputs": [
    {
     "name": "stdout",
     "output_type": "stream",
     "text": [
      "識別精度= 0.8758736511831374\n"
     ]
    }
   ],
   "source": [
    "#目的変数'state'を正解としてyに格納\n",
    "y = df_ks18_fixed['state'].values\n",
    "#説明変数'goal','backers'を入力としてXに格納\n",
    "X = df_ks18_fixed[['goal', 'backers']].values\n",
    "X_train, X_test, y_train, y_test = train_test_split(X, y, test_size=0.3)\n",
    "\n",
    "# 標準化\n",
    "stdsc = StandardScaler()\n",
    "X_train = stdsc.fit_transform(X_train)\n",
    "X_test = stdsc.transform(X_test)"
   ]
  },
  {
   "cell_type": "code",
   "execution_count": 7,
   "metadata": {},
   "outputs": [
    {
     "name": "stdout",
     "output_type": "stream",
     "text": [
      "識別精度= 0.8456440631945212\n"
     ]
    }
   ],
   "source": [
    "#ロジスティック回帰で学習\n",
    "clf = SGDClassifier(loss='log', penalty='none', max_iter=10000, fit_intercept=True, random_state=1234 , tol=1e-3)\n",
    "clf.fit(X_train, y_train)\n",
    "# 未知のデータを識別する\n",
    "# clf.predict(X_test)\n",
    "print(\"識別精度=\",clf.score(X_test, y_test))"
   ]
  },
  {
   "cell_type": "code",
   "execution_count": null,
   "metadata": {},
   "outputs": [],
   "source": [
    "# 線形SVMの実行\n",
    "C = 5\n",
    "clf = SVC(C=C, kernel=\"linear\")\n",
    "clf.fit(X_train, y_train)\n",
    "\n",
    "# 未知のデータを識別する\n",
    "clf.predict(X_test)\n",
    "print(\"識別精度=\",clf.score(X_test, y_test))"
   ]
  },
  {
   "cell_type": "markdown",
   "metadata": {},
   "source": [
    "* 線形分離不可能なデータを用いて、ベストなkernel,C,gammaを探してみましょう \n",
    "* 探索するパターンを増やしすぎると、計算に時間がかかるので注意してください"
   ]
  },
  {
   "cell_type": "markdown",
   "metadata": {},
   "source": [
    "### カーネル関数を適応する"
   ]
  },
  {
   "cell_type": "code",
   "execution_count": 8,
   "metadata": {},
   "outputs": [
    {
     "name": "stdout",
     "output_type": "stream",
     "text": [
      "識別精度= 0.8929595028107684\n"
     ]
    }
   ],
   "source": [
    "# SVMの実行\n",
    "C = 5\n",
    "kernel = \"rbf\"\n",
    "gamma = 1\n",
    "clf = SVC(C=C, kernel=kernel, gamma=gamma)\n",
    "clf.fit(X_train, y_train)\n",
    "print(\"識別精度=\",clf.score(X_test, y_test))"
   ]
  },
  {
   "cell_type": "markdown",
   "metadata": {},
   "source": [
    "### ニューラルネットワーク"
   ]
  },
  {
   "cell_type": "code",
   "execution_count": 22,
   "metadata": {},
   "outputs": [],
   "source": [
    "from tensorflow.compat.v1.keras import Sequential\n",
    "from tensorflow.compat.v1.keras.layers import Dense, Dropout, Activation\n",
    "from tensorflow.compat.v1.keras.optimizers import SGD,RMSprop, Adagrad, Adadelta, Adam\n",
    "\n",
    "model = Sequential()\n",
    "model.add(Dense(9, activation='relu', input_dim=2))\n",
    "model.add(Dense(4, activation='relu', input_dim=9))\n",
    "model.add(Dense(2, activation='sigmoid'))#最終層のactivationは変更しないこと\n",
    "\n",
    "# ------ 最適化手法 ------\n",
    "# sgd = SGD(lr=0.01, momentum=0.9, nesterov=False)\n",
    "# rms = RMSprop(lr=0.01)\n",
    "# adag = Adagrad(lr=0.01)\n",
    "# adad = Adadelta(lr=0.01)\n",
    "adam = Adam(lr=0.01)\n",
    "# -----------------------------\n",
    "\n",
    "model.compile(loss='binary_crossentropy',\n",
    "              optimizer=adam,\n",
    "              metrics=['accuracy'])\n",
    "\n",
    "# WARNINGが出るが気にしなくて良い"
   ]
  },
  {
   "cell_type": "code",
   "execution_count": 26,
   "metadata": {},
   "outputs": [
    {
     "name": "stdout",
     "output_type": "stream",
     "text": [
      "X_train= [[-0.03832216 -0.13551191]\n",
      " [-0.0282254   0.55215896]\n",
      " [-0.03971948 -0.11600352]\n",
      " ...\n",
      " [-0.03318363 -0.016023  ]\n",
      " [-0.01740745 -0.13795046]\n",
      " [-0.02732391  0.11443938]]\n",
      "\n",
      "X_test= [[-0.03092989 -0.00017243]\n",
      " [-0.03543737 -0.13551191]\n",
      " [-0.03955721 -0.1123457 ]\n",
      " ...\n",
      " [-0.03633887 -0.11844207]\n",
      " [-0.03769111 -0.13795046]\n",
      " [-0.03092989  0.04128291]]\n",
      "\n",
      "y_train= [[1. 0.]\n",
      " [0. 1.]\n",
      " [0. 1.]\n",
      " ...\n",
      " [0. 1.]\n",
      " [1. 0.]\n",
      " [0. 1.]]\n",
      "\n",
      "y_test= [[0. 1.]\n",
      " [1. 0.]\n",
      " [0. 1.]\n",
      " ...\n",
      " [1. 0.]\n",
      " [1. 0.]\n",
      " [0. 1.]]\n"
     ]
    }
   ],
   "source": [
    "# one-hotベクトルに変換\n",
    "from tensorflow.keras.utils import to_categorical\n",
    "y_train = to_categorical(y_train)\n",
    "y_test = to_categorical(y_test)\n",
    "\n",
    "print(\"X_train=\",X_train)\n",
    "print()\n",
    "print(\"X_test=\",X_test)\n",
    "print()\n",
    "print(\"y_train=\",y_train)\n",
    "print()\n",
    "print(\"y_test=\",y_test)"
   ]
  },
  {
   "cell_type": "code",
   "execution_count": 27,
   "metadata": {},
   "outputs": [
    {
     "name": "stdout",
     "output_type": "stream",
     "text": [
      "Train on 232023 samples, validate on 99439 samples\n",
      "Epoch 1/10\n",
      "232023/232023 [==============================] - 22s 96us/sample - loss: 0.2556 - acc: 0.8977 - val_loss: 0.2171 - val_acc: 0.9144\n",
      "Epoch 2/10\n",
      "232023/232023 [==============================] - 22s 97us/sample - loss: 0.2212 - acc: 0.9110 - val_loss: 0.2484 - val_acc: 0.8978\n",
      "Epoch 3/10\n",
      "232023/232023 [==============================] - 21s 92us/sample - loss: 0.2171 - acc: 0.9121 - val_loss: 0.2030 - val_acc: 0.9187\n",
      "Epoch 4/10\n",
      "232023/232023 [==============================] - 22s 93us/sample - loss: 0.2153 - acc: 0.9130 - val_loss: 0.2022 - val_acc: 0.9186\n",
      "Epoch 5/10\n",
      "232023/232023 [==============================] - 22s 93us/sample - loss: 0.2135 - acc: 0.9141 - val_loss: 0.2102 - val_acc: 0.9167\n",
      "Epoch 6/10\n",
      "232023/232023 [==============================] - 22s 95us/sample - loss: 0.2116 - acc: 0.9146 - val_loss: 0.2037 - val_acc: 0.9200\n",
      "Epoch 7/10\n",
      "232023/232023 [==============================] - 22s 94us/sample - loss: 0.2110 - acc: 0.9147 - val_loss: 0.1988 - val_acc: 0.9202\n",
      "Epoch 8/10\n",
      "232023/232023 [==============================] - 22s 95us/sample - loss: 0.2107 - acc: 0.9148 - val_loss: 0.2017 - val_acc: 0.9199\n",
      "Epoch 9/10\n",
      "232023/232023 [==============================] - 22s 95us/sample - loss: 0.2102 - acc: 0.9153 - val_loss: 0.2177 - val_acc: 0.9101\n",
      "Epoch 10/10\n",
      "232023/232023 [==============================] - 22s 94us/sample - loss: 0.2090 - acc: 0.9154 - val_loss: 0.2005 - val_acc: 0.9211\n"
     ]
    },
    {
     "data": {
      "image/png": "[encoded data removed]",
      "text/plain": [
       "<Figure size 432x288 with 1 Axes>"
      ]
     },
     "metadata": {
      "needs_background": "light"
     },
     "output_type": "display_data"
    },
    {
     "data": {
      "image/png": "[encoded data removed]",
      "text/plain": [
       "<Figure size 432x288 with 1 Axes>"
      ]
     },
     "metadata": {
      "needs_background": "light"
     },
     "output_type": "display_data"
    }
   ],
   "source": [
    "# 計算の実行\n",
    "fit = model.fit(X_train, y_train,\n",
    "          epochs=10,\n",
    "          batch_size=20,validation_data=(X_test, y_test))\n",
    "\n",
    "# 各epochにおける損失と精度をdfに入れる\n",
    "df = pd.DataFrame(fit.history)\n",
    "\n",
    "# グラフ化\n",
    "df[[\"loss\", \"val_loss\"]].plot()\n",
    "plt.ylabel(\"loss\")\n",
    "plt.xlabel(\"epoch\")\n",
    "plt.show()\n",
    "\n",
    "df[[\"acc\", \"val_acc\"]].plot()\n",
    "plt.ylabel(\"acc\")\n",
    "plt.xlabel(\"epoch\")\n",
    "plt.ylim([0,1.0])\n",
    "plt.show()"
   ]
  },
  {
   "cell_type": "code",
   "execution_count": 29,
   "metadata": {},
   "outputs": [
    {
     "name": "stdout",
     "output_type": "stream",
     "text": [
      "99439/99439 [==============================] - 2s 23us/sample - loss: 0.2005 - acc: 0.9211\n",
      "識別精度= 0.9210672\n"
     ]
    }
   ],
   "source": [
    "print(\"識別精度=\",model.evaluate(X_test, y_test)[1])"
   ]
  }
 ],
 "metadata": {
  "kernelspec": {
   "display_name": "Python 3",
   "language": "python",
   "name": "python3"
  },
  "language_info": {
   "codemirror_mode": {
    "name": "ipython",
    "version": 3
   },
   "file_extension": ".py",
   "mimetype": "text/x-python",
   "name": "python",
   "nbconvert_exporter": "python",
   "pygments_lexer": "ipython3",
   "version": "3.7.0"
  }
 },
 "nbformat": 4,
 "nbformat_minor": 4
}
